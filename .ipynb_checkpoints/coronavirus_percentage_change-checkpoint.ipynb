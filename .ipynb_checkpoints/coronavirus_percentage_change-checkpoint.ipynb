{
 "cells": [
  {
   "cell_type": "markdown",
   "metadata": {},
   "source": [
    "# Dive Deep into Wuhan Pneumonia\n",
    "* This tutorial is an analytic tutorial on Wuhan pneumonia occuring worldwide.\n",
    "* I just want to know how serious this situation now is and want to know fact through data\n",
    "* from 20.01.30.Thur.am 11:55 ~"
   ]
  },
  {
   "cell_type": "markdown",
   "metadata": {},
   "source": [
    "## percentage change of definite diagnosis"
   ]
  },
  {
   "cell_type": "markdown",
   "metadata": {},
   "source": [
    "* percentage change \n",
    "    * Reference 'Calculating change in percentage between two numbers(Python)\n",
    "    * stackoverflow: https://stackoverflow.com/questions/12700166/calculating-change-in-percentage-between-two-numbers-python"
   ]
  },
  {
   "cell_type": "code",
   "execution_count": 2,
   "metadata": {},
   "outputs": [],
   "source": [
    "# example\n",
    "\n",
    "prices = [30.4, 32.5, 31.7, 31.2, 32.7, 34.1, 35.8, 37.8, 36.3, 36.3, 35.6]\n",
    "\n",
    "# how to calculate change percentage between two numbers?\n",
    "\n"
   ]
  },
  {
   "cell_type": "markdown",
   "metadata": {},
   "source": [
    "### knowledge to learn for this\n",
    "#### Python zip() Function"
   ]
  },
  {
   "cell_type": "markdown",
   "metadata": {},
   "source": [
    "*  Using the Python zip() Function for Parallel It`eration\n",
    "    * Parallel Iteration\n",
    "    * Reference: Real Python\n",
    "    * https://realpython.com/python-zip-function/"
   ]
  },
  {
   "cell_type": "markdown",
   "metadata": {},
   "source": [
    "#### Table of contents\n",
    "* \n",
    "    * Understandinng the Python zip() Function\n",
    "    * Using zip() in Python\n",
    "    * Comparing zip() in Python 3 and 2\n",
    "    * Looping Over Multiple Iterables\n",
    "    * Conclusion"
   ]
  },
  {
   "cell_type": "markdown",
   "metadata": {},
   "source": [
    "* Python zip() function creates an iterator that will aggregate elements from two or more iterables.\n",
    "* You can use the resulting iterator to quickly and consistantly solve common programming problems, like creating dictionaries\n",
    "* In this tutorial we can use it to solve real-world problems."
   ]
  },
  {
   "cell_type": "markdown",
   "metadata": {},
   "source": [
    "* By the end of this tutorial, We'll learn.\n",
    "    * How zip() works in both Python 3 and Python2\n",
    "    * How to use the Python zip() function for parallel iteration\n",
    "    * How to create dictionaries on the fly using zip()"
   ]
  },
  {
   "cell_type": "markdown",
   "metadata": {},
   "source": [
    "#### Understanding the Python zip() Function"
   ]
  },
  {
   "cell_type": "markdown",
   "metadata": {},
   "source": [
    "Python's zip() function is deifined as zip(*iterables) <br/>\n",
    "The function takes in iterables as arguments and returns an iterator.<br/>\n",
    "=> function은 iterable을 인수로 받아서 iterator를 반환한다.<br/>\n",
    "\n",
    "\n"
   ]
  },
  {
   "cell_type": "markdown",
   "metadata": {},
   "source": []
  }
 ],
 "metadata": {
  "kernelspec": {
   "display_name": "Python 3",
   "language": "python",
   "name": "python3"
  },
  "language_info": {
   "codemirror_mode": {
    "name": "ipython",
    "version": 3
   },
   "file_extension": ".py",
   "mimetype": "text/x-python",
   "name": "python",
   "nbconvert_exporter": "python",
   "pygments_lexer": "ipython3",
   "version": "3.7.6"
  }
 },
 "nbformat": 4,
 "nbformat_minor": 4
}
