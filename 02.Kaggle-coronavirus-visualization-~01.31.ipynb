{
 "cells": [
  {
   "cell_type": "markdown",
   "metadata": {},
   "source": [
    "# Kaggle-coronavirus-visualisation park1 - update version\n",
    "* Today's goal\n",
    "    * EDA 20.01.21 ~ 20.01.31\n",
    "        * Visualization\n",
    "            * Increasing number of confirmed patients and Increasing number of death.\n",
    "            * "
   ]
  }
 ],
 "metadata": {
  "kernelspec": {
   "display_name": "Python 3",
   "language": "python",
   "name": "python3"
  },
  "language_info": {
   "name": ""
  }
 },
 "nbformat": 4,
 "nbformat_minor": 4
}
